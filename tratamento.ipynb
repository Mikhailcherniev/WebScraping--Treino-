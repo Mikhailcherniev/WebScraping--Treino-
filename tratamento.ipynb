{
 "cells": [
  {
   "cell_type": "code",
   "execution_count": 60,
   "metadata": {},
   "outputs": [],
   "source": [
    "import pandas as pd\n",
    "\n",
    "df = pd.read_excel(\"dados_orcameto.xlsx\")\n",
    "\n",
    "\n"
   ]
  },
  {
   "cell_type": "code",
   "execution_count": 61,
   "metadata": {},
   "outputs": [
    {
     "name": "stdout",
     "output_type": "stream",
     "text": [
      "0    14045.42\n",
      "1    42597.50\n",
      "2    39491.52\n",
      "3    52992.06\n",
      "4    16198.93\n",
      "5    83802.71\n",
      "6    20827.56\n",
      "7    43836.04\n",
      "8    66691.57\n",
      "9    64021.60\n",
      "Name: valor_previsto, dtype: float64\n"
     ]
    }
   ],
   "source": [
    "#transformar valore em float\n",
    "df['valor_previsto'] = df['valor_previsto'].astype(float)\n",
    "\n",
    "print(df['valor_previsto'].head(10))"
   ]
  },
  {
   "cell_type": "code",
   "execution_count": 62,
   "metadata": {},
   "outputs": [
    {
     "name": "stdout",
     "output_type": "stream",
     "text": [
      "0     15524.519752\n",
      "1     45075.424647\n",
      "2     44155.593318\n",
      "3     59965.364892\n",
      "4     15988.451455\n",
      "5     70007.261590\n",
      "6     24831.966996\n",
      "7    190453.565265\n",
      "8     74191.089214\n",
      "9     52639.936790\n",
      "Name: valor_realizado, dtype: float64\n"
     ]
    }
   ],
   "source": [
    "#transformar valore em float\n",
    "df['valor_realizado'] = df['valor_realizado'].astype(float)\n",
    "\n",
    "print(df['valor_realizado'].head(10))"
   ]
  },
  {
   "cell_type": "code",
   "execution_count": 63,
   "metadata": {},
   "outputs": [
    {
     "name": "stdout",
     "output_type": "stream",
     "text": [
      "0     15524.52\n",
      "1     45075.42\n",
      "2     44155.59\n",
      "3     59965.36\n",
      "4     15988.45\n",
      "5     70007.26\n",
      "6     24831.97\n",
      "7    190453.57\n",
      "8     74191.09\n",
      "9     52639.94\n",
      "Name: valor_realizado, dtype: float64\n"
     ]
    }
   ],
   "source": [
    "#duas casas depois da virgula\n",
    "df['valor_realizado'] = df['valor_realizado'].round(2)\n",
    "\n",
    "print(df['valor_realizado'].head(10))"
   ]
  },
  {
   "cell_type": "code",
   "execution_count": 64,
   "metadata": {},
   "outputs": [],
   "source": [
    " # Criar a coluna data no formato '01/mm/aaaa' (primeiro dia do mês)\n",
    "df['data'] = pd.to_datetime(df['ano'].astype(str) + '-' + df['mes'].astype(str) + '-01')\n",
    "    "
   ]
  },
  {
   "cell_type": "code",
   "execution_count": 65,
   "metadata": {},
   "outputs": [],
   "source": [
    "# Formatar a data como string no formato desejado (opcional)\n",
    "df['data'] = df['data'].dt.strftime('%m/%Y')"
   ]
  },
  {
   "cell_type": "code",
   "execution_count": 66,
   "metadata": {},
   "outputs": [],
   "source": [
    "# Reordenar colunas (opcional)\n",
    "colunas = ['setor', 'data', 'mes', 'ano', 'valor_previsto', 'valor_realizado']\n",
    "df = df[colunas]"
   ]
  },
  {
   "cell_type": "code",
   "execution_count": 67,
   "metadata": {},
   "outputs": [],
   "source": [
    " # Remover colunas originais de mês e ano\n",
    "df.drop(columns=['mes', 'ano'], inplace=True)"
   ]
  },
  {
   "cell_type": "code",
   "execution_count": 68,
   "metadata": {},
   "outputs": [],
   "source": [
    "# Reordenar colunas (opcional)\n",
    "df = df[['setor', 'data', 'valor_previsto', 'valor_realizado']]\n",
    "    "
   ]
  },
  {
   "cell_type": "code",
   "execution_count": 69,
   "metadata": {},
   "outputs": [],
   "source": [
    "df.to_excel(\"dados_orcamento_tratados.xlsx\", index=False)"
   ]
  },
  {
   "cell_type": "code",
   "execution_count": null,
   "metadata": {},
   "outputs": [],
   "source": []
  }
 ],
 "metadata": {
  "kernelspec": {
   "display_name": "Python 3",
   "language": "python",
   "name": "python3"
  },
  "language_info": {
   "codemirror_mode": {
    "name": "ipython",
    "version": 3
   },
   "file_extension": ".py",
   "mimetype": "text/x-python",
   "name": "python",
   "nbconvert_exporter": "python",
   "pygments_lexer": "ipython3",
   "version": "3.12.1"
  }
 },
 "nbformat": 4,
 "nbformat_minor": 2
}
