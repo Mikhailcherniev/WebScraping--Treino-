{
 "cells": [
  {
   "cell_type": "code",
   "execution_count": 1,
   "metadata": {},
   "outputs": [
    {
     "name": "stdout",
     "output_type": "stream",
     "text": [
      "Transformação concluída!\n"
     ]
    }
   ],
   "source": [
    "import pandas as pd\n",
    "from datetime import datetime\n",
    "\n",
    "# Carregar os dados\n",
    "df = pd.read_excel('dados_despesas.xlsx')\n",
    "\n",
    "# Converter timestamp para data no formato dia/mês/ano\n",
    "df['data'] = pd.to_datetime(df['data'], unit='ms').dt.strftime('%d/%m/%Y')\n",
    "\n",
    "# Substituir fornecedores vazios por \"desconhecido\"\n",
    "df['fornecedor'] = df['fornecedor'].fillna('desconhecido')\n",
    "\n",
    "# Substituir fornecedores vazios por \"desconhecido\"\n",
    "df['valor'] = df['valor'].fillna('desconhecido')\n",
    "\n",
    "# Nome do arquivo de saída\n",
    "output_file = 'dados_despesas_tratados.xlsx'\n",
    "\n",
    "# Salvar o arquivo transformado\n",
    "df.to_excel(\"dados_despesas_tratados.xlsx\", index=False)\n",
    "\n",
    "print(f\"Transformação concluída!\")"
   ]
  },
  {
   "cell_type": "code",
   "execution_count": null,
   "metadata": {},
   "outputs": [],
   "source": []
  }
 ],
 "metadata": {
  "kernelspec": {
   "display_name": "Python 3",
   "language": "python",
   "name": "python3"
  },
  "language_info": {
   "codemirror_mode": {
    "name": "ipython",
    "version": 3
   },
   "file_extension": ".py",
   "mimetype": "text/x-python",
   "name": "python",
   "nbconvert_exporter": "python",
   "pygments_lexer": "ipython3",
   "version": "3.12.1"
  }
 },
 "nbformat": 4,
 "nbformat_minor": 2
}
